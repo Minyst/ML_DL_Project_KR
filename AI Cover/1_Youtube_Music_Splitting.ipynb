{
  "nbformat": 4,
  "nbformat_minor": 0,
  "metadata": {
    "colab": {
      "provenance": [],
      "gpuType": "T4",
      "include_colab_link": true
    },
    "kernelspec": {
      "name": "python3",
      "display_name": "Python 3"
    },
    "language_info": {
      "name": "python"
    },
    "accelerator": "GPU"
  },
  "cells": [
    {
      "cell_type": "markdown",
      "metadata": {
        "id": "view-in-github",
        "colab_type": "text"
      },
      "source": [
        "<a href=\"https://colab.research.google.com/github/Minyst/ML_DL_Portfolio_KR/blob/main/AI%20Cover/1_Youtube_Music_Splitting.ipynb\" target=\"_parent\"><img src=\"https://colab.research.google.com/assets/colab-badge.svg\" alt=\"Open In Colab\"/></a>"
      ]
    },
    {
      "cell_type": "markdown",
      "source": [
        "#Youtube Music Splitting"
      ],
      "metadata": {
        "id": "sDraxeaqAQp6"
      }
    },
    {
      "cell_type": "code",
      "source": [
        "from google.colab import drive\n",
        "drive.mount('/content/drive', force_remount=True)"
      ],
      "metadata": {
        "id": "4ZQBIPAu6JF0"
      },
      "execution_count": null,
      "outputs": []
    },
    {
      "cell_type": "markdown",
      "source": [
        "## Package Download"
      ],
      "metadata": {
        "id": "XN3D2ChUBQ2Z"
      }
    },
    {
      "cell_type": "code",
      "source": [
        "!pip install -q yt_dlp\n",
        "!pip install -q ffmpeg\n",
        "!pip install -q demucs"
      ],
      "metadata": {
        "id": "MFM2nr6lBUbU"
      },
      "execution_count": null,
      "outputs": []
    },
    {
      "cell_type": "markdown",
      "source": [
        "## Import Packages"
      ],
      "metadata": {
        "id": "xs6Ro_QgBBiR"
      }
    },
    {
      "cell_type": "code",
      "source": [
        "from __future__ import unicode_literals\n",
        "import os\n",
        "import sys\n",
        "import shutil\n",
        "import yt_dlp\n",
        "import ffmpeg\n",
        "import demucs\n",
        "import time"
      ],
      "metadata": {
        "id": "tkMS3xcOBM_R"
      },
      "execution_count": null,
      "outputs": []
    },
    {
      "cell_type": "markdown",
      "source": [
        "## Music Download & Split Music\n",
        "#####split music - vocals and no vocals(MR,BGM)\n",
        "#####Park Hyo Shin(박효신)\n",
        "#####추억은 사랑을 닮아: https://youtu.be/KaOzQqE-fwQ?si=LfjlrQbyMFu8h5ck,\n",
        "#####야생화: https://youtu.be/OxgiiyLp5pk?si=m-vMnP6ZyJMiGEs7,\n",
        "#####눈의꽃: https://youtu.be/BY4sHNaV4WU?si=eFUJ2iGr6FzW2cVK,\n",
        "#####Gift: https://youtu.be/haM03BYST8c?si=hxlvtp4ifWLHT3by,\n",
        "#####동경: https://youtu.be/xdQZqb0glnI?si=ZFjrLHqYaI-icfhj\n",
        "\n",
        "\n"
      ],
      "metadata": {
        "id": "Fj3gAX8a-4_y"
      }
    },
    {
      "cell_type": "code",
      "source": [
        "base_dir = \"/content/drive/MyDrive/AICover\"\n",
        "os.makedirs(base_dir, exist_ok=True)\n",
        "dir_name = \"PHS\"\n",
        "os.makedirs(f\"{base_dir}/{dir_name}\", exist_ok=True)\n",
        "\n",
        "youtube_url = [\n",
        "    \"https://youtu.be/KaOzQqE-fwQ?si=LfjlrQbyMFu8h5ck\",\n",
        "    \"https://youtu.be/OxgiiyLp5pk?si=m-vMnP6ZyJMiGEs7\",\n",
        "    \"https://youtu.be/BY4sHNaV4WU?si=eFUJ2iGr6FzW2cVK\",\n",
        "    \"https://youtu.be/haM03BYST8c?si=hxlvtp4ifWLHT3by\",\n",
        "    \"https://youtu.be/xdQZqb0glnI?si=ZFjrLHqYaI-icfhj\"\n",
        "]\n",
        "\n",
        "music = [\"추억은사랑을닮아\", \"야생화\", \"눈의꽃\", \"Gift\", \"동경\"]\n",
        "\n",
        "for i, link in enumerate(youtube_url):\n",
        "    ydl_opts = {\n",
        "        'format': 'bestaudio/best',\n",
        "        'postprocessors': [{\n",
        "            'key': 'FFmpegExtractAudio',\n",
        "            'preferredcodec': 'wav',\n",
        "        }],\n",
        "        \"outtmpl\": f'{base_dir}/{dir_name}/{music[i]}',\n",
        "    }\n",
        "    with yt_dlp.YoutubeDL(ydl_opts) as ydl:\n",
        "        ydl.download([link])\n",
        "\n",
        "    audio_url = f\"{base_dir}/{dir_name}/{music[i]}.wav\"\n",
        "\n",
        "    !demucs --two-stems=vocals {audio_url}\n",
        "    # music_name = music[i]\n",
        "    # !mv /content/separated/htdemucs/{music_name} {base_dir}/{dir_name}"
      ],
      "metadata": {
        "id": "tvnNjDzmLRu4"
      },
      "execution_count": null,
      "outputs": []
    },
    {
      "cell_type": "code",
      "source": [
        "!mv /content/separated/htdemucs/* {base_dir}/{dir_name}"
      ],
      "metadata": {
        "id": "nu_qVHSHxGA0"
      },
      "execution_count": null,
      "outputs": []
    },
    {
      "cell_type": "code",
      "source": [
        "!cp -r /content/separated/htdemucs/* {base_dir}/{dir_name}"
      ],
      "metadata": {
        "id": "834LSolQ7Xli"
      },
      "execution_count": null,
      "outputs": []
    },
    {
      "cell_type": "markdown",
      "source": [
        "![화면 캡처 2024-07-01 105405.png](data:image/png;base64,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)"
      ],
      "metadata": {
        "id": "cwexVtkVBYz6"
      }
    },
    {
      "cell_type": "markdown",
      "source": [
        "## Principle of Demucs\n",
        "https://github.com/facebookresearch/demucs"
      ],
      "metadata": {
        "id": "2UUydkmeBhBq"
      }
    },
    {
      "cell_type": "markdown",
      "source": [
        "\n",
        "![](https://raw.githubusercontent.com/facebookresearch/demucs/main/demucs.png)"
      ],
      "metadata": {
        "id": "4cKx4w1Tr0f3"
      }
    }
  ]
}