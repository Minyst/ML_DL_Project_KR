{
  "nbformat": 4,
  "nbformat_minor": 0,
  "metadata": {
    "colab": {
      "provenance": [],
      "gpuType": "T4",
      "authorship_tag": "ABX9TyOct9Xsw2vwVrlyX2IQGtCZ",
      "include_colab_link": true
    },
    "kernelspec": {
      "name": "python3",
      "display_name": "Python 3"
    },
    "language_info": {
      "name": "python"
    },
    "accelerator": "GPU"
  },
  "cells": [
    {
      "cell_type": "markdown",
      "metadata": {
        "id": "view-in-github",
        "colab_type": "text"
      },
      "source": [
        "<a href=\"https://colab.research.google.com/github/Minyst/ML_DL_Portfolio_KR/blob/main/YOLO/YOLOv10_Custom.ipynb\" target=\"_parent\"><img src=\"https://colab.research.google.com/assets/colab-badge.svg\" alt=\"Open In Colab\"/></a>"
      ]
    },
    {
      "cell_type": "code",
      "source": [
        "import os\n",
        "HOME = os.getcwd()\n",
        "print(HOME)"
      ],
      "metadata": {
        "colab": {
          "base_uri": "https://localhost:8080/"
        },
        "id": "5VAEvK8FWpFr",
        "outputId": "61635c13-4df8-4c06-b96b-218aa29d86b9"
      },
      "execution_count": null,
      "outputs": [
        {
          "output_type": "stream",
          "name": "stdout",
          "text": [
            "/content\n"
          ]
        }
      ]
    },
    {
      "cell_type": "code",
      "source": [
        "!curl -L \"https://universe.roboflow.com/ds/rgovMIXJCK?key=fyU64pv91e\" > roboflow.zip; unzip roboflow.zip; rm roboflow.zip"
      ],
      "metadata": {
        "id": "HnIB_d-EEk9Q"
      },
      "execution_count": null,
      "outputs": []
    },
    {
      "cell_type": "code",
      "execution_count": null,
      "metadata": {
        "id": "RMt5OqAsw2m2"
      },
      "outputs": [],
      "source": [
        "!pip install -q git+https://github.com/THU-MIG/yolov10.git"
      ]
    },
    {
      "cell_type": "code",
      "source": [
        "!pip install -q supervision roboflow"
      ],
      "metadata": {
        "id": "mZhu4ev8WjTa"
      },
      "execution_count": null,
      "outputs": []
    },
    {
      "cell_type": "code",
      "source": [
        "!wget -P {HOME}/weights -q https://github.com/THU-MIG/yolov10/releases/download/v1.1/yolov10n.pt"
      ],
      "metadata": {
        "id": "a0bBCRw5Wfs8"
      },
      "execution_count": null,
      "outputs": []
    },
    {
      "cell_type": "code",
      "source": [
        "%cd {HOME}\n",
        "\n",
        "!yolo task=detect mode=predict conf=0.25 save=True \\\n",
        "model={HOME}/weights/yolov10n.pt"
      ],
      "metadata": {
        "id": "m4xduHZjbbGZ"
      },
      "execution_count": null,
      "outputs": []
    },
    {
      "cell_type": "code",
      "source": [
        "!pip install ultralytics"
      ],
      "metadata": {
        "id": "mxeCK78qiUj8"
      },
      "execution_count": null,
      "outputs": []
    },
    {
      "cell_type": "code",
      "source": [
        "from ultralytics import YOLOv10\n",
        "import supervision as sv"
      ],
      "metadata": {
        "id": "lHE47ixnWwH2"
      },
      "execution_count": null,
      "outputs": []
    },
    {
      "cell_type": "code",
      "source": [
        "import cv2\n",
        "import numpy as np\n",
        "from tqdm import tqdm\n",
        "from google.colab.patches import cv2_imshow"
      ],
      "metadata": {
        "id": "uOQfzNoj3VNc"
      },
      "execution_count": null,
      "outputs": []
    },
    {
      "cell_type": "code",
      "source": [
        "output_video_path = '/content/PREMIER LEAGUE HIGHLIGHTS 10sec.mp4'"
      ],
      "metadata": {
        "id": "A8mkQPf-3h95"
      },
      "execution_count": null,
      "outputs": []
    },
    {
      "cell_type": "code",
      "source": [
        "import cv2\n",
        "import numpy as np\n",
        "import supervision as sv\n",
        "from ultralytics import YOLOv10\n",
        "model = YOLOv10(f'{HOME}/weights/yolov10n.pt')\n",
        "model.train(data='/content/data.yaml', epochs=100, imgsz=640)"
      ],
      "metadata": {
        "id": "0LmCdOISLAbb"
      },
      "execution_count": null,
      "outputs": []
    },
    {
      "cell_type": "code",
      "source": [
        "model = YOLOv10('/content/runs/detect/train/weights/best.pt')"
      ],
      "metadata": {
        "id": "eIyyuFemi76I"
      },
      "execution_count": null,
      "outputs": []
    },
    {
      "cell_type": "code",
      "source": [
        "video_path = '/content/PREMIER LEAGUE HIGHLIGHTS 10sec.mp4'\n",
        "frames = []\n",
        "cap = cv2.VideoCapture(video_path)\n",
        "while(cap.isOpened()):\n",
        "    ret, frame = cap.read()\n",
        "    if ret:\n",
        "        frames.append(cv2.cvtColor(frame, cv2.COLOR_RGB2BGR))\n",
        "    else:\n",
        "        break"
      ],
      "metadata": {
        "id": "kzdZIDVNe-1H"
      },
      "execution_count": null,
      "outputs": []
    },
    {
      "cell_type": "code",
      "source": [
        "fourcc = cv2.VideoWriter_fourcc(*'mp4v')\n",
        "out = cv2.VideoWriter('output_video.mp4', fourcc, 30, (852, 480))\n",
        "\n",
        "for frame in tqdm(frames):\n",
        "    results = model(frame)[0]\n",
        "    detections = sv.Detections.from_ultralytics(results)\n",
        "    bounding_box_annotator = sv.BoundingBoxAnnotator()\n",
        "    label_annotator = sv.LabelAnnotator()\n",
        "\n",
        "    annotated_image = bounding_box_annotator.annotate(\n",
        "        scene=frame, detections=detections)\n",
        "    annotated_image = label_annotator.annotate(\n",
        "        scene=annotated_image, detections=detections)\n",
        "    final_image = cv2.cvtColor(annotated_image, cv2.COLOR_RGB2BGR)\n",
        "    out.write(final_image)\n",
        "out.release()"
      ],
      "metadata": {
        "id": "mFOSScKye_t4"
      },
      "execution_count": null,
      "outputs": []
    }
  ]
}